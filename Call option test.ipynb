{
 "cells": [
  {
   "cell_type": "code",
   "execution_count": 2,
   "id": "e5c76457",
   "metadata": {},
   "outputs": [
    {
     "name": "stdout",
     "output_type": "stream",
     "text": [
      "Collecting pandas_datareader\n",
      "  Using cached pandas_datareader-0.10.0-py3-none-any.whl (109 kB)\n",
      "Requirement already satisfied: lxml in c:\\users\\kim\\anaconda3\\lib\\site-packages (from pandas_datareader) (4.6.3)\n",
      "Requirement already satisfied: pandas>=0.23 in c:\\users\\kim\\anaconda3\\lib\\site-packages (from pandas_datareader) (1.2.4)\n",
      "Requirement already satisfied: requests>=2.19.0 in c:\\users\\kim\\anaconda3\\lib\\site-packages (from pandas_datareader) (2.25.1)\n",
      "Requirement already satisfied: numpy>=1.16.5 in c:\\users\\kim\\anaconda3\\lib\\site-packages (from pandas>=0.23->pandas_datareader) (1.20.1)\n",
      "Requirement already satisfied: pytz>=2017.3 in c:\\users\\kim\\anaconda3\\lib\\site-packages (from pandas>=0.23->pandas_datareader) (2021.1)\n",
      "Requirement already satisfied: python-dateutil>=2.7.3 in c:\\users\\kim\\anaconda3\\lib\\site-packages (from pandas>=0.23->pandas_datareader) (2.8.1)\n",
      "Requirement already satisfied: six>=1.5 in c:\\users\\kim\\anaconda3\\lib\\site-packages (from python-dateutil>=2.7.3->pandas>=0.23->pandas_datareader) (1.15.0)\n",
      "Requirement already satisfied: certifi>=2017.4.17 in c:\\users\\kim\\anaconda3\\lib\\site-packages (from requests>=2.19.0->pandas_datareader) (2020.12.5)\n",
      "Requirement already satisfied: urllib3<1.27,>=1.21.1 in c:\\users\\kim\\anaconda3\\lib\\site-packages (from requests>=2.19.0->pandas_datareader) (1.26.4)\n",
      "Requirement already satisfied: chardet<5,>=3.0.2 in c:\\users\\kim\\anaconda3\\lib\\site-packages (from requests>=2.19.0->pandas_datareader) (4.0.0)\n",
      "Requirement already satisfied: idna<3,>=2.5 in c:\\users\\kim\\anaconda3\\lib\\site-packages (from requests>=2.19.0->pandas_datareader) (2.10)\n",
      "Installing collected packages: pandas-datareader\n",
      "Successfully installed pandas-datareader-0.10.0\n",
      "Note: you may need to restart the kernel to use updated packages.\n"
     ]
    }
   ],
   "source": [
    "#pip install pandas_datareader"
   ]
  },
  {
   "cell_type": "code",
   "execution_count": 10,
   "id": "de06207c",
   "metadata": {},
   "outputs": [
    {
     "data": {
      "text/plain": [
       "'C:\\\\Users\\\\Kim'"
      ]
     },
     "execution_count": 10,
     "metadata": {},
     "output_type": "execute_result"
    }
   ],
   "source": [
    "pwd"
   ]
  },
  {
   "cell_type": "code",
   "execution_count": 3,
   "id": "766be99b-18dd-473b-bd62-5e3768cd839c",
   "metadata": {},
   "outputs": [],
   "source": [
    "from math import log, sqrt, pi, exp\n",
    "from scipy.stats import norm\n",
    "from datetime import datetime, date\n",
    "import numpy as np\n",
    "import pandas as pd\n",
    "from pandas import DataFrame\n",
    "import pandas_datareader.data as web\n",
    "\n"
   ]
  },
  {
   "cell_type": "code",
   "execution_count": 4,
   "id": "f23e3f47-d103-4a25-805d-da2fa7512149",
   "metadata": {},
   "outputs": [],
   "source": [
    "def d1(S,K,T,r,sigma):\n",
    "    '''\n",
    "    S: Current Stock Price\n",
    "    K: Strike Price\n",
    "    T: Time to maturity\n",
    "    r: Risk-free interest rate\n",
    "    sigma: Volatility/Standard Deviation of log returns\n",
    "\n",
    "    returns: volatility weighted return rate\n",
    "    '''\n",
    "    return(log(S/K)+(r+sigma**2/2.)*T)/(sigma*sqrt(T))\n",
    "\n",
    "def d2(S,K,T,r,sigma):\n",
    "    '''\n",
    "    S: Current Stock Price\n",
    "    K: Strike Price\n",
    "    T: Time to maturity\n",
    "    r: Risk-free interest rate\n",
    "    sigma: Volatility/Standard Deviation of log returns\n",
    "\n",
    "    returns: volatility weighted interest rate\n",
    "    '''\n",
    "    return d1(S,K,T,r,sigma)-sigma*sqrt(T)\n",
    "\n",
    "###\n",
    "def bs_call(S,K,T,r,sigma):\n",
    "    '''\n",
    "    S: Current Stock Price\n",
    "    K: Strike Price\n",
    "    T: Time to maturity\n",
    "    r: Risk-free interest rate\n",
    "    sigma: Volatility/Standard Deviation of log returns\n",
    "\n",
    "    returns: Black-Sholes Call option price\n",
    "    '''\n",
    "    return S*norm.cdf(d1(S,K,T,r,sigma))-K*exp(-r*T)*norm.cdf(d2(S,K,T,r,sigma))\n",
    "  \n",
    "def bs_put(S,K,T,r,sigma):\n",
    "    '''\n",
    "    S: Current Stock Price\n",
    "    K: Strike Price\n",
    "    T: Time to maturity\n",
    "    r: Risk-free interest rate\n",
    "    sigma: Volatility/Standard Deviation of log returns\n",
    "\n",
    "    returns: Black-Sholes Put option price\n",
    "    '''\n",
    "    return K*exp(-r*T)-S+bs_call(S,K,T,r,sigma)\n",
    "\n"
   ]
  },
  {
   "cell_type": "code",
   "execution_count": 8,
   "id": "a4727a98-d0f8-43a5-b2ce-9a484fa5326b",
   "metadata": {},
   "outputs": [],
   "source": [
    "\n",
    "\n",
    "###\n",
    "### Adding more information for additional analysis\n",
    "def call_implied_volatility(Price, S, K, T, r):\n",
    "    sigma = 0.001\n",
    "    while sigma < 1:\n",
    "        Price_implied = S * \\\n",
    "            norm.cdf(d1(S, K, T, r, sigma))-K*exp(-r*T) * \\\n",
    "            norm.cdf(d2(S, K, T, r, sigma))\n",
    "        if Price-(Price_implied) < 0.001:\n",
    "            return sigma\n",
    "        sigma += 0.001\n",
    "    return \"Not Found\"\n",
    "\n",
    "def put_implied_volatility(Price, S, K, T, r):\n",
    "    sigma = 0.001\n",
    "    while sigma < 1:\n",
    "        Price_implied = K*exp(-r*T)-S+bs_call(S, K, T, r, sigma)\n",
    "        if Price-(Price_implied) < 0.001:\n",
    "            return sigma\n",
    "        sigma += 0.001\n",
    "    return \"Not Found\"\n",
    "\n",
    "###\n",
    "### THE GREEKS @prestal33 \n",
    "def call_delta(S,K,T,r,sigma):\n",
    "    return norm.cdf(d1(S,K,T,r,sigma))\n",
    "def call_gamma(S,K,T,r,sigma):\n",
    "    return norm.pdf(d1(S,K,T,r,sigma))/(S*sigma*sqrt(T))\n",
    "def call_vega(S,K,T,r,sigma):\n",
    "    return 0.01*(S*norm.pdf(d1(S,K,T,r,sigma))*sqrt(T))\n",
    "def call_theta(S,K,T,r,sigma):\n",
    "    return 0.01*(-(S*norm.pdf(d1(S,K,T,r,sigma))*sigma)/(2*sqrt(T)) - r*K*exp(-r*T)*norm.cdf(d2(S,K,T,r,sigma)))\n",
    "def call_rho(S,K,T,r,sigma):\n",
    "    return 0.01*(K*T*exp(-r*T)*norm.cdf(d2(S,K,T,r,sigma)))\n",
    "\n",
    "   \n",
    "def put_delta(S,K,T,r,sigma):\n",
    "    return -norm.cdf(-d1(S,K,T,r,sigma))\n",
    "def put_gamma(S,K,T,r,sigma):\n",
    "    return norm.pdf(d1(S,K,T,r,sigma))/(S*sigma*sqrt(T))\n",
    "def put_vega(S,K,T,r,sigma):\n",
    "    return 0.01*(S*norm.pdf(d1(S,K,T,r,sigma))*sqrt(T))\n",
    "def put_theta(S,K,T,r,sigma):\n",
    "    return 0.01*(-(S*norm.pdf(d1(S,K,T,r,sigma))*sigma)/(2*sqrt(T)) + r*K*exp(-r*T)*norm.cdf(-d2(S,K,T,r,sigma)))\n",
    "def put_rho(S,K,T,r,sigma):\n",
    "    return 0.01*(-K*T*exp(-r*T)*norm.cdf(-d2(S,K,T,r,sigma)))\n"
   ]
  },
  {
   "cell_type": "code",
   "execution_count": 9,
   "id": "47eccd80-836f-4fa5-8d46-7229f518a2c3",
   "metadata": {},
   "outputs": [
    {
     "name": "stdout",
     "output_type": "stream",
     "text": [
      "Implied Volatility: 15.00000000000001 %\n",
      "Implied Volatility: 15.00000000000001 %\n",
      "The Option Price is:  86.34893310518385\n"
     ]
    }
   ],
   "source": [
    "### Testing Inputs \n",
    "stock = 'SPY'\n",
    "expiry = '12-18-2022'\n",
    "strike_price = 370\n",
    "\n",
    "today = datetime.now()\n",
    "one_year_ago = today.replace(year=today.year-1)\n",
    "\n",
    "### Testing inputs\n",
    "df = web.DataReader(stock, 'yahoo', one_year_ago, today)\n",
    "\n",
    "df = df.sort_values(by=\"Date\")\n",
    "df = df.dropna()\n",
    "df = df.assign(close_day_before=df.Close.shift(1))\n",
    "df['returns'] = ((df.Close - df.close_day_before)/df.close_day_before)\n",
    "\n",
    "sigma = np.sqrt(252) * df['returns'].std()\n",
    "uty = (web.DataReader(\n",
    "    \"^TNX\", 'yahoo', today.replace(day=today.day-1), today)['Close'].iloc[-1])/100\n",
    "lcp = df['Close'].iloc[-1]\n",
    "t = (datetime.strptime(expiry, \"%m-%d-%Y\") - datetime.utcnow()).days / 365\n",
    "###\n",
    "### Testing the implied Volatiltiy functions\n",
    "print(\"Implied Volatility: \" +\n",
    "      str(100 * call_implied_volatility(bs_call(lcp, strike_price, t, uty, sigma,), lcp, strike_price, t, uty,)) + \" %\")\n",
    "print(\"Implied Volatility: \" +\n",
    "      str(100 * put_implied_volatility(bs_put(lcp, strike_price, t, uty, sigma,), lcp, strike_price, t, uty,)) + \" %\")\n",
    "\n",
    "print('The Option Price is: ', bs_call(lcp, strike_price, t, uty, sigma))"
   ]
  }
 ],
 "metadata": {
  "kernelspec": {
   "display_name": "Python 3",
   "language": "python",
   "name": "python3"
  },
  "language_info": {
   "codemirror_mode": {
    "name": "ipython",
    "version": 3
   },
   "file_extension": ".py",
   "mimetype": "text/x-python",
   "name": "python",
   "nbconvert_exporter": "python",
   "pygments_lexer": "ipython3",
   "version": "3.8.8"
  }
 },
 "nbformat": 4,
 "nbformat_minor": 5
}
